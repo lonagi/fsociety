{
 "cells": [
  {
   "cell_type": "code",
   "execution_count": 33,
   "metadata": {
    "ExecuteTime": {
     "end_time": "2021-02-08T21:20:27.379414Z",
     "start_time": "2021-02-08T21:20:27.376596Z"
    }
   },
   "outputs": [],
   "source": [
    "mx=list(\"1.0000101\")\n",
    "my=list(\"1.0100001\")\n",
    "ex=list(\"0.1010\")\n",
    "ey=list(\"0.0111\")"
   ]
  },
  {
   "cell_type": "code",
   "execution_count": 34,
   "metadata": {
    "ExecuteTime": {
     "end_time": "2021-02-08T21:20:27.563694Z",
     "start_time": "2021-02-08T21:20:27.560639Z"
    }
   },
   "outputs": [],
   "source": [
    "def invert(d):\n",
    "    if d==\"0\":\n",
    "        return \"1\"\n",
    "    elif d==\"1\":\n",
    "        return \"0\"\n",
    "    else:\n",
    "        return d"
   ]
  },
  {
   "cell_type": "code",
   "execution_count": 36,
   "metadata": {
    "ExecuteTime": {
     "end_time": "2021-02-08T21:20:27.938004Z",
     "start_time": "2021-02-08T21:20:27.933503Z"
    }
   },
   "outputs": [],
   "source": [
    "def invertion(ey):\n",
    "    dey=ey\n",
    "    ddey=ey[::-1]\n",
    "    theone=0\n",
    "    for i in range(len(dey)):\n",
    "        dey[i]=invert(dey[i])\n",
    "    for i in range(len(ddey)):\n",
    "        if ddey[i]==\"1\":\n",
    "            theone=i\n",
    "            break\n",
    "    dey[-1-theone]=\"1\" \n",
    "    return dey"
   ]
  },
  {
   "cell_type": "code",
   "execution_count": 40,
   "metadata": {
    "ExecuteTime": {
     "end_time": "2021-02-08T21:20:29.748449Z",
     "start_time": "2021-02-08T21:20:29.744200Z"
    }
   },
   "outputs": [],
   "source": [
    "def add(ex,ey):\n",
    "    ez = []\n",
    "    for i in range(len(ey)-1,-1,-1):\n",
    "        try:\n",
    "            iex = int(ex[i])\n",
    "            iey = int(ey[i])\n",
    "            ez.append(iex+iey)\n",
    "        except:\n",
    "            ez.append(ex[i])\n",
    "    return ez[::-1]"
   ]
  },
  {
   "cell_type": "code",
   "execution_count": 41,
   "metadata": {
    "ExecuteTime": {
     "end_time": "2021-02-08T21:20:30.246773Z",
     "start_time": "2021-02-08T21:20:30.242230Z"
    }
   },
   "outputs": [],
   "source": [
    "def overflow(_ez):\n",
    "    ez = list([i for i in _ez])\n",
    "    for i in range(len(ez)):\n",
    "        if ez[i]==2:\n",
    "            ez[i]=0\n",
    "            if i-1 > -1:\n",
    "                if ez[i-1] == \".\":\n",
    "                    ez[i-2]+=1\n",
    "                else:\n",
    "                    ez[i-1]+=1\n",
    "    return ez"
   ]
  },
  {
   "cell_type": "code",
   "execution_count": 42,
   "metadata": {
    "ExecuteTime": {
     "end_time": "2021-02-08T21:20:31.097504Z",
     "start_time": "2021-02-08T21:20:31.094194Z"
    }
   },
   "outputs": [],
   "source": [
    "ez = add(ex,dey)\n",
    "while True:\n",
    "    ez=overflow(ez)\n",
    "    if ez.count(1) + ez.count(0)+1==len(ez):\n",
    "        break"
   ]
  },
  {
   "cell_type": "code",
   "execution_count": null,
   "metadata": {},
   "outputs": [],
   "source": [
    "dey = invertion(ey)"
   ]
  }
 ],
 "metadata": {
  "kernelspec": {
   "display_name": "Python 3",
   "language": "python",
   "name": "python3"
  },
  "language_info": {
   "codemirror_mode": {
    "name": "ipython",
    "version": 3
   },
   "file_extension": ".py",
   "mimetype": "text/x-python",
   "name": "python",
   "nbconvert_exporter": "python",
   "pygments_lexer": "ipython3",
   "version": "3.7.6"
  },
  "varInspector": {
   "cols": {
    "lenName": 16,
    "lenType": 16,
    "lenVar": 40
   },
   "kernels_config": {
    "python": {
     "delete_cmd_postfix": "",
     "delete_cmd_prefix": "del ",
     "library": "var_list.py",
     "varRefreshCmd": "print(var_dic_list())"
    },
    "r": {
     "delete_cmd_postfix": ") ",
     "delete_cmd_prefix": "rm(",
     "library": "var_list.r",
     "varRefreshCmd": "cat(var_dic_list()) "
    }
   },
   "types_to_exclude": [
    "module",
    "function",
    "builtin_function_or_method",
    "instance",
    "_Feature"
   ],
   "window_display": false
  }
 },
 "nbformat": 4,
 "nbformat_minor": 4
}
