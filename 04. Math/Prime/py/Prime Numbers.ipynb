{
 "cells": [
  {
   "cell_type": "code",
   "execution_count": null,
   "metadata": {},
   "outputs": [],
   "source": [
    "import seaborn as sns\n",
    "import pandas as pd\n",
    "import numpy as np\n",
    "import matplotlib.pyplot as plt\n",
    "sns.set()"
   ]
  },
  {
   "cell_type": "code",
   "execution_count": null,
   "metadata": {},
   "outputs": [],
   "source": [
    "_Ns, _Xs, _Bs, _As, _Xmins=[],[],[],[],[]"
   ]
  },
  {
   "cell_type": "code",
   "execution_count": null,
   "metadata": {
    "scrolled": true
   },
   "outputs": [],
   "source": [
    "Piska=1001\n",
    "BPISKA=1001\n",
    "\n",
    "piski=[]\n",
    "tempdick=[]\n",
    "\n",
    "for n in range(Piska,BPISKA+1,1):\n",
    "#     if(n!=Piska):\n",
    "#         break\n",
    "\n",
    "    xlist=[]\n",
    "    Blist=[]\n",
    "    Alist=[]\n",
    "    b1_x=[]\n",
    "    xts=[]\n",
    "    \n",
    "    ttff=False\n",
    "    ttff2=False\n",
    "    for x in range(1,(n-1)//2+1):\n",
    "        B=((n-(n//x)*x)**2)//x\n",
    "        A=((n-x*(n//x+1))**(2))//x\n",
    "        D=(x**2)//(n-x)\n",
    "        E=((n-2*x)**2)//(n-x)\n",
    "        \n",
    "        try:\n",
    "            #A2=(B**2-2-y*(1-2*B))/B\n",
    "            \n",
    "            y=B+(A*B+2)**(1/2)\n",
    "            y1=B-(A*B+2)**(1/2)\n",
    "            y2=(B*x+2)**(1/2)\n",
    "            #x2=y+((y**3*(2*A-1)+y**2*(A**2-2)+y*(2-4*A))**(1/2))*1/A\n",
    "        except:\n",
    "            print(\"0\")\n",
    "        \n",
    "        if(y==y2 or y1==y2):\n",
    "            print(\" \")\n",
    "        else:\n",
    "            print(\"Ой\")\n",
    "        continue\n",
    "        \n",
    "        xlist.append(x)\n",
    "        Blist.append(B)\n",
    "        Alist.append(A)\n",
    "        \n",
    "        #Blist.append(B*x+2)\n",
    "        #Alist.append(A*x+2)\n",
    "        \n",
    "        xtB=(B*x+2)**(1/2)\n",
    "        xtA=(A*x+2)**(1/2)\n",
    "        xtD=(D*(n-x)+2)**(1/2)\n",
    "        xtE=(E*(n-x)+2)**(1/2)\n",
    "        \n",
    "        if(xtB-round(xtB)==0 and xtA-round(xtA)==0):\n",
    "            if(not ttff2):\n",
    "                #print(f\"n={n}, x={x}, y={xtB}, z={xtA}, C={n//x}\")\n",
    "                \n",
    "                a=[]\n",
    "                i=0\n",
    "                for nn in range(11,101+1,1):\n",
    "                    if nn < x:\n",
    "                        continue\n",
    "                    i+=1\n",
    "\n",
    "                    if(i==x+1):\n",
    "                        break\n",
    "                        \n",
    "                    a.append(nn-(nn//x)*x)\n",
    "                    \n",
    "                if(xtB in a and xtA in a and x not in tempdick):\n",
    "                    fsdfsd = ((x-xtB)**2)//x\n",
    "                    fsdfsd2 = (xtB**2)//x+2*xtB-(xtB+2)/((xtB**2)//x)\n",
    "                    if(fsdfsd==fsdfsd2):\n",
    "                        print(x)\n",
    "                    \n",
    "                    #print(f'n={n}, x={x}, y={xtB}, z={xtA}, ay={a.index(xtB)}, az={a.index(xtA)}, g={abs(a.index(xtB)-a.index(xtA))/2}, h={(x-abs( a.index(xtB)-a.index(xtA) ))/2}')\n",
    "                    tempdick.append(x)\n",
    "                else:\n",
    "                    pass\n",
    "                    #print(f'n={n}, x={x}, y={xtB}, z={xtA}')\n",
    "                    \n",
    "                piski.append(f\"{n}-{x}\")\n",
    "                #ttff=True\n",
    "                #break\n",
    "        elif(xtD-round(xtD)==0 and xtE-round(xtE)==0):\n",
    "            if(not ttff2):\n",
    "                #print(f\"n={n}, x={x}, p={xtD}, q={xtE}, C={n//x}\")\n",
    "                piski.append(f\"{n}-{x}\")\n",
    "                #ttff=True\n",
    "                \n",
    "            #print(f'n={n}: x={x} -> B={B}')\n",
    "        #print(f'n={n}: x={x} -> A={A}')\n",
    "            \n",
    "    if(not ttff):\n",
    "        #print(f\"n={n}\")\n",
    "        piski.append(f\"{n}-{x}-\")\n",
    "        #ttff2=True        \n",
    "        \n",
    "    Bmax=max(Blist)\n",
    "    Xmax=xlist[Blist.index(Bmax)]\n",
    "    \n",
    "    #print(f\"n={n}: X={Xmax} -> B={Bmax}\")\n",
    "    #print(f'n={n}: x_min={min(b1_x)} -> B=1')\n",
    "    if(len(xts)==0):\n",
    "        pass\n",
    "        #print(f'n={n}: x_min={min(b1_x)} -> нет п.квадратов')\n",
    "    \n",
    "    #_Xmins.append(min(b1_x))\n",
    "    _Ns.append(n)\n",
    "    _Xs.append(Xmax)\n",
    "    _Bs.append(Bmax)\n",
    "print(\"Done\")"
   ]
  },
  {
   "cell_type": "code",
   "execution_count": null,
   "metadata": {},
   "outputs": [],
   "source": [
    "piski.append(\"0-0\")\n",
    "piski.append(\"0-0\")"
   ]
  },
  {
   "cell_type": "code",
   "execution_count": null,
   "metadata": {},
   "outputs": [],
   "source": [
    "piski2=piski.copy()\n",
    "for i in range(len(piski2)):\n",
    "    piski2[i]=list(map(int,piski2[i].split(\"-\")))"
   ]
  },
  {
   "cell_type": "code",
   "execution_count": null,
   "metadata": {},
   "outputs": [],
   "source": [
    "unique_data.sort(key=lambda x: x[1])"
   ]
  },
  {
   "cell_type": "code",
   "execution_count": null,
   "metadata": {},
   "outputs": [],
   "source": [
    "unique_data = [list(x) for x in set(tuple(x) for x in piski2)]"
   ]
  },
  {
   "cell_type": "code",
   "execution_count": null,
   "metadata": {},
   "outputs": [],
   "source": [
    "set([i[1] for i in unique_data])"
   ]
  },
  {
   "cell_type": "code",
   "execution_count": null,
   "metadata": {},
   "outputs": [],
   "source": [
    "aaa=[]\n",
    "for i in range(len(piski2)-2):\n",
    "    t=\"\"\n",
    "    if(len(piski2[i+1])==3):\n",
    "        aaa.append(int(piski2[i+1][0]))\n",
    "        for x in range(1,(int(piski2[i+1][0])-1)//2+1):\n",
    "            a=x**2-2\n",
    "            b=int(piski2[i+1][0])-x\n",
    "            if(a%b==0):\n",
    "                t=b+x\n",
    "    \n",
    "    if(piski2[i][1]==\"7\" and piski2[i+2][1]==\"7\" and len(piski2[i+1])==3):\n",
    "        n=piski2[i+1][0]\n",
    "        nn=int(n)**2-2\n",
    "        a=x**2-2\n",
    "        b=int(piski2[i][0])-x\n",
    "        if(t!=int(n)):\n",
    "            print(f'n={n}, n2={str(nn)}, isPrime={pynvg.math.isPrime(nn)}')"
   ]
  },
  {
   "cell_type": "code",
   "execution_count": null,
   "metadata": {
    "scrolled": true
   },
   "outputs": [],
   "source": [
    "for k in range(1,100):\n",
    "    xlist=[]\n",
    "    for x in range(k,k**2+1):\n",
    "        a=(k**2-2)\n",
    "        b=k**2//x\n",
    "        u=a/b\n",
    "        if(x==u):\n",
    "            xlist.append(x)\n",
    "            \n",
    "    if(xlist):\n",
    "        m=max(xlist)\n",
    "        for _x in xlist:\n",
    "            if(len(xlist)!=1):\n",
    "                print(f'k={k}, x={_x}, a={m/_x}')\n",
    "            else:\n",
    "                print(f'k={k}, x={_x}')"
   ]
  },
  {
   "cell_type": "code",
   "execution_count": null,
   "metadata": {},
   "outputs": [],
   "source": [
    "plt.figure(num=None, figsize=(20, 11), dpi=300, facecolor='w', edgecolor='k')\n",
    "\n",
    "for xc in [i**2 for i in range(80)]:\n",
    "    #plt.axvline(x=xc)\n",
    "    #plt.axhline(y=xc,s=1)\n",
    "    pass\n",
    "\n",
    "plt.plot(xlist,Blist)\n",
    "plt.plot(xlist,Alist)\n",
    "#plt.scatter(xlist,xts)"
   ]
  },
  {
   "cell_type": "code",
   "execution_count": null,
   "metadata": {},
   "outputs": [],
   "source": [
    "for x in _Xs:\n",
    "    for B in _Bs:\n",
    "        a=(x*B+2)**(1/2)\n",
    "        xs_index=_Xs.index(x)\n",
    "        if( a-round(a)==0 ):\n",
    "            print(f\"n={_Ns[xs_index]}: x={x}\")\n",
    "            break"
   ]
  },
  {
   "cell_type": "code",
   "execution_count": null,
   "metadata": {
    "scrolled": false
   },
   "outputs": [],
   "source": [
    "for x in range(1,30):\n",
    "    for k in range(1,8):\n",
    "        for y in range(1,8):\n",
    "            a=(k**2)//x\n",
    "            b=(y**2-2)/x\n",
    "            if(a==b and k==y+2):\n",
    "                print(f\"x={x}, k={k}, y={y}\")"
   ]
  },
  {
   "cell_type": "code",
   "execution_count": null,
   "metadata": {},
   "outputs": [],
   "source": [
    "for x in range(119,120):\n",
    "    i=0\n",
    "    for n in range(11,1901+1,10):\n",
    "        if n < x:\n",
    "            continue\n",
    "        i+=1\n",
    "        \n",
    "        if(i==x+1):\n",
    "            break\n",
    "\n",
    "        a=n-(n//x)*x\n",
    "        da=a-((n-10)-((n-10)//x)*x)\n",
    "        #if(da!=10):\n",
    "        print(f'x={x}, n={n}, a={a}, da={da}')"
   ]
  },
  {
   "cell_type": "code",
   "execution_count": null,
   "metadata": {
    "scrolled": true
   },
   "outputs": [],
   "source": [
    "df=pd.DataFrame(pd.read_csv(\"gh.csv\",sep=r'\\s*,\\s*',header=0, encoding='ascii', engine='python'))"
   ]
  },
  {
   "cell_type": "code",
   "execution_count": null,
   "metadata": {},
   "outputs": [],
   "source": [
    "df=df.rename(columns={0:'n',1:'x',2:'y',3:'z',4:'ay',5:'az',6:'g',7:'h'})"
   ]
  },
  {
   "cell_type": "code",
   "execution_count": null,
   "metadata": {},
   "outputs": [],
   "source": [
    "df.sort_values(by='x')"
   ]
  },
  {
   "cell_type": "code",
   "execution_count": null,
   "metadata": {},
   "outputs": [],
   "source": []
  },
  {
   "cell_type": "code",
   "execution_count": null,
   "metadata": {},
   "outputs": [],
   "source": [
    "for x in range(1,1000):\n",
    "    for y in range(1,x//2+1):\n",
    "        try:\n",
    "            fsdfsd = ((x-y)**2)//x\n",
    "            fsdfsd2 = (y**2)//x+2*y-(y+2)/((y**2)//x)\n",
    "            if(fsdfsd==fsdfsd2):\n",
    "                print(x)\n",
    "        except:\n",
    "            pass"
   ]
  },
  {
   "cell_type": "code",
   "execution_count": null,
   "metadata": {},
   "outputs": [],
   "source": [
    "plt.scatter(Blist,Alist)"
   ]
  },
  {
   "cell_type": "code",
   "execution_count": null,
   "metadata": {},
   "outputs": [],
   "source": [
    "import matplotlib.pyplot as plt\n",
    "from scipy import interpolate\n",
    "import numpy as np\n",
    "\n",
    "plt.plot(Blist, Alist, 'ro', ms=5)\n",
    "\n",
    "tck,u = interpolate.splprep([Blist,Alist],k=3,s=32)\n",
    "\n",
    "u=np.linspace(0,1,num=50,endpoint=True)\n",
    "out = interpolate.splev(u,tck)\n",
    "\n",
    "plt.plot(Blist, Alist, 'ro', out[0], out[1], 'b' )\n",
    "\n",
    "plt.show()"
   ]
  },
  {
   "cell_type": "code",
   "execution_count": null,
   "metadata": {},
   "outputs": [],
   "source": [
    "for x in range(7,501):\n",
    "    a=-1\n",
    "    for i in range(x+1):\n",
    "        print(x,i**2//x)\n",
    "        a+=1\n",
    "        if(a==0):\n",
    "            break"
   ]
  },
  {
   "cell_type": "code",
   "execution_count": 87,
   "metadata": {
    "ExecuteTime": {
     "end_time": "2020-09-09T19:28:49.317868Z",
     "start_time": "2020-09-09T19:28:48.888393Z"
    }
   },
   "outputs": [],
   "source": [
    "dd=[]\n",
    "cc=[]\n",
    "xx=[]\n",
    "for x in range(7,1500,2):\n",
    "    bb=[]\n",
    "    for i in range(x+1):\n",
    "        b=i**2//x\n",
    "        bb.append(b)\n",
    "        #print(f'x={x}, b={b}')\n",
    "    \n",
    "    for i in range(len(bb)//2):\n",
    "        c=bb[i]*bb[-i-1]\n",
    "        c=(c+2)**(1/2)\n",
    "        if(c-round(c)==0):\n",
    "            if((bb[i],bb[-i-1]) not in dd):\n",
    "                #print(f'x={x}, a{i}={bb[i]}, a{len(bb)-i-1}={bb[-i-1]}, c={int(c)}')\n",
    "                cc.append(c)\n",
    "                xx.append(x)\n",
    "            dd.append((bb[i],bb[-i-1]))\n",
    "                "
   ]
  },
  {
   "cell_type": "code",
   "execution_count": 88,
   "metadata": {
    "ExecuteTime": {
     "end_time": "2020-09-09T19:28:49.625709Z",
     "start_time": "2020-09-09T19:28:49.355357Z"
    }
   },
   "outputs": [
    {
     "data": {
      "text/plain": [
       "[<matplotlib.lines.Line2D at 0x7f8fe7fd3050>]"
      ]
     },
     "execution_count": 88,
     "metadata": {},
     "output_type": "execute_result"
    },
    {
     "data": {
      "image/png": "[encoded data removed]",
      "text/plain": [
       "<Figure size 432x288 with 1 Axes>"
      ]
     },
     "metadata": {},
     "output_type": "display_data"
    }
   ],
   "source": [
    "plt.plot(xx,cc)"
   ]
  },
  {
   "cell_type": "code",
   "execution_count": 89,
   "metadata": {
    "ExecuteTime": {
     "end_time": "2020-09-09T19:28:50.388327Z",
     "start_time": "2020-09-09T19:28:49.734323Z"
    }
   },
   "outputs": [
    {
     "data": {
      "text/plain": [
       "(array([1., 2., 2., 2., 3., 2., 2., 2., 4., 2., 2., 4., 0., 2., 4., 2., 4.,\n",
       "        2., 2., 3., 3., 1., 1., 3., 1., 0., 1., 3., 2., 0., 1., 2., 2., 2.,\n",
       "        2., 0., 2., 0., 0., 6., 0., 0., 2., 0., 0., 0., 4., 0., 0., 2., 0.,\n",
       "        2., 0., 0., 1., 0., 2., 5., 2., 0., 2., 3., 0., 0., 2., 1., 0., 0.,\n",
       "        0., 5., 2., 2., 0., 0., 2., 0., 2., 0., 0., 2., 0., 0., 2., 2., 0.,\n",
       "        0., 0., 0., 3., 1., 2., 0., 0., 0., 1., 4., 2., 0., 0., 2., 0., 2.,\n",
       "        0., 0., 1., 0., 0., 0., 1., 0., 2., 2., 0., 0., 1., 0., 0., 0., 0.,\n",
       "        1., 0., 0., 3., 0., 0., 0., 0., 0., 2., 1., 3., 2., 2., 2., 0., 0.,\n",
       "        0., 0., 2., 0., 1., 0., 0., 0., 0., 2., 1., 0., 0., 0., 0., 0., 0.,\n",
       "        1., 0., 2., 0., 1., 0., 1., 0., 0., 0., 0., 2., 0., 0., 0., 1., 0.,\n",
       "        0., 2., 0., 0., 0., 0., 0., 0., 0., 0., 2., 0., 1., 1., 0., 0., 1.,\n",
       "        1.]),\n",
       " array([  2.        ,   3.84042553,   5.68085106,   7.5212766 ,\n",
       "          9.36170213,  11.20212766,  13.04255319,  14.88297872,\n",
       "         16.72340426,  18.56382979,  20.40425532,  22.24468085,\n",
       "         24.08510638,  25.92553191,  27.76595745,  29.60638298,\n",
       "         31.44680851,  33.28723404,  35.12765957,  36.96808511,\n",
       "         38.80851064,  40.64893617,  42.4893617 ,  44.32978723,\n",
       "         46.17021277,  48.0106383 ,  49.85106383,  51.69148936,\n",
       "         53.53191489,  55.37234043,  57.21276596,  59.05319149,\n",
       "         60.89361702,  62.73404255,  64.57446809,  66.41489362,\n",
       "         68.25531915,  70.09574468,  71.93617021,  73.77659574,\n",
       "         75.61702128,  77.45744681,  79.29787234,  81.13829787,\n",
       "         82.9787234 ,  84.81914894,  86.65957447,  88.5       ,\n",
       "         90.34042553,  92.18085106,  94.0212766 ,  95.86170213,\n",
       "         97.70212766,  99.54255319, 101.38297872, 103.22340426,\n",
       "        105.06382979, 106.90425532, 108.74468085, 110.58510638,\n",
       "        112.42553191, 114.26595745, 116.10638298, 117.94680851,\n",
       "        119.78723404, 121.62765957, 123.46808511, 125.30851064,\n",
       "        127.14893617, 128.9893617 , 130.82978723, 132.67021277,\n",
       "        134.5106383 , 136.35106383, 138.19148936, 140.03191489,\n",
       "        141.87234043, 143.71276596, 145.55319149, 147.39361702,\n",
       "        149.23404255, 151.07446809, 152.91489362, 154.75531915,\n",
       "        156.59574468, 158.43617021, 160.27659574, 162.11702128,\n",
       "        163.95744681, 165.79787234, 167.63829787, 169.4787234 ,\n",
       "        171.31914894, 173.15957447, 175.        , 176.84042553,\n",
       "        178.68085106, 180.5212766 , 182.36170213, 184.20212766,\n",
       "        186.04255319, 187.88297872, 189.72340426, 191.56382979,\n",
       "        193.40425532, 195.24468085, 197.08510638, 198.92553191,\n",
       "        200.76595745, 202.60638298, 204.44680851, 206.28723404,\n",
       "        208.12765957, 209.96808511, 211.80851064, 213.64893617,\n",
       "        215.4893617 , 217.32978723, 219.17021277, 221.0106383 ,\n",
       "        222.85106383, 224.69148936, 226.53191489, 228.37234043,\n",
       "        230.21276596, 232.05319149, 233.89361702, 235.73404255,\n",
       "        237.57446809, 239.41489362, 241.25531915, 243.09574468,\n",
       "        244.93617021, 246.77659574, 248.61702128, 250.45744681,\n",
       "        252.29787234, 254.13829787, 255.9787234 , 257.81914894,\n",
       "        259.65957447, 261.5       , 263.34042553, 265.18085106,\n",
       "        267.0212766 , 268.86170213, 270.70212766, 272.54255319,\n",
       "        274.38297872, 276.22340426, 278.06382979, 279.90425532,\n",
       "        281.74468085, 283.58510638, 285.42553191, 287.26595745,\n",
       "        289.10638298, 290.94680851, 292.78723404, 294.62765957,\n",
       "        296.46808511, 298.30851064, 300.14893617, 301.9893617 ,\n",
       "        303.82978723, 305.67021277, 307.5106383 , 309.35106383,\n",
       "        311.19148936, 313.03191489, 314.87234043, 316.71276596,\n",
       "        318.55319149, 320.39361702, 322.23404255, 324.07446809,\n",
       "        325.91489362, 327.75531915, 329.59574468, 331.43617021,\n",
       "        333.27659574, 335.11702128, 336.95744681, 338.79787234,\n",
       "        340.63829787, 342.4787234 , 344.31914894, 346.15957447,\n",
       "        348.        ]),\n",
       " <a list of 188 Patch objects>)"
      ]
     },
     "execution_count": 89,
     "metadata": {},
     "output_type": "execute_result"
    },
    {
     "data": {
      "image/png": "[encoded data removed]",
      "text/plain": [
       "<Figure size 432x288 with 1 Axes>"
      ]
     },
     "metadata": {},
     "output_type": "display_data"
    }
   ],
   "source": [
    "plt.hist(cc,bins=len(xx))"
   ]
  },
  {
   "cell_type": "code",
   "execution_count": 90,
   "metadata": {
    "ExecuteTime": {
     "end_time": "2020-09-09T19:32:13.533732Z",
     "start_time": "2020-09-09T19:32:11.549167Z"
    }
   },
   "outputs": [
    {
     "data": {
      "text/plain": [
       "'temp-plot.html'"
      ]
     },
     "execution_count": 90,
     "metadata": {},
     "output_type": "execute_result"
    }
   ],
   "source": [
    "import plotly as pyo\n",
    "pyo.offline.plot([{\n",
    "    'x':xx,\n",
    "    'y':cc\n",
    "}])"
   ]
  },
  {
   "cell_type": "code",
   "execution_count": null,
   "metadata": {},
   "outputs": [],
   "source": []
  }
 ],
 "metadata": {
  "kernelspec": {
   "display_name": "Python 3",
   "language": "python",
   "name": "python3"
  },
  "language_info": {
   "codemirror_mode": {
    "name": "ipython",
    "version": 3
   },
   "file_extension": ".py",
   "mimetype": "text/x-python",
   "name": "python",
   "nbconvert_exporter": "python",
   "pygments_lexer": "ipython3",
   "version": "3.7.6"
  },
  "varInspector": {
   "cols": {
    "lenName": 16,
    "lenType": 16,
    "lenVar": 40
   },
   "kernels_config": {
    "python": {
     "delete_cmd_postfix": "",
     "delete_cmd_prefix": "del ",
     "library": "var_list.py",
     "varRefreshCmd": "print(var_dic_list())"
    },
    "r": {
     "delete_cmd_postfix": ") ",
     "delete_cmd_prefix": "rm(",
     "library": "var_list.r",
     "varRefreshCmd": "cat(var_dic_list()) "
    }
   },
   "types_to_exclude": [
    "module",
    "function",
    "builtin_function_or_method",
    "instance",
    "_Feature"
   ],
   "window_display": false
  }
 },
 "nbformat": 4,
 "nbformat_minor": 4
}
